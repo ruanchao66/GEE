{
 "cells": [
  {
   "cell_type": "markdown",
   "id": "f4a01210",
   "metadata": {},
   "source": [
    "# 1.常规算法"
   ]
  },
  {
   "cell_type": "markdown",
   "id": "723fd24a",
   "metadata": {},
   "source": [
    "## 1.1 显示矢量边界"
   ]
  },
  {
   "cell_type": "markdown",
   "id": "caef3440",
   "metadata": {},
   "source": [
    "导入gee相关库，设置端口‘7890’，初始化gee"
   ]
  },
  {
   "cell_type": "code",
   "execution_count": 1,
   "id": "16232a51",
   "metadata": {},
   "outputs": [],
   "source": [
    "import ee\n",
    "import geemap\n",
    "import os\n",
    "os.environ ['HTTP_PROXY'] ='http://127.0.0.1:7890'\n",
    "os.environ ['HTTPS_PROXY'] ='http://127.0.0.1:7890'\n",
    "ee.Initialize()"
   ]
  },
  {
   "cell_type": "code",
   "execution_count": 2,
   "id": "3dd5ecd0",
   "metadata": {},
   "outputs": [],
   "source": [
    "def funoutline(roi):\n",
    "  output = ee.Image().toByte().paint(featureCollection = roi, color = 0, width = 2)\n",
    "  return output\n"
   ]
  },
  {
   "cell_type": "markdown",
   "id": "79bdf08c",
   "metadata": {},
   "source": [
    "## 1.2 植被指数计算"
   ]
  },
  {
   "cell_type": "markdown",
   "id": "005d10bf",
   "metadata": {},
   "source": [
    "### 1.2.1 归一化函数"
   ]
  },
  {
   "cell_type": "code",
   "execution_count": 3,
   "id": "6f88412e",
   "metadata": {},
   "outputs": [],
   "source": [
    "def ND(image,b1,b2,bName):\n",
    "  VI = image.normalizedDifference([b1,b2]).rename(bName)\n",
    "  return VI.updateMask(VI.gt(-1).And(VI.lt(1)))"
   ]
  },
  {
   "cell_type": "markdown",
   "id": "cf11bb59",
   "metadata": {},
   "source": [
    "### 1.2.2 植被指数"
   ]
  },
  {
   "cell_type": "code",
   "execution_count": 4,
   "id": "c1a76a8a",
   "metadata": {},
   "outputs": [],
   "source": [
    "#DVI\n",
    "def funDVI(image,B1,B2):\n",
    "  VI = image.expression('nir - red',{'nir':  image.select(B1),   'red':  image.select(B2)}).rename('DVI')\n",
    "  return VI#.updateMask(VI.gt(-1).and(VI.lt(1)));\n",
    "\n",
    "#DSWI\n",
    "def funDSWI(image,B1,B2,B3,B4,bname):\n",
    "  VI = image.expression('(nir + green) / (swir + red)',{'nir':  image.select(B1),   'green':image.select(B2),'swir': image.select(B3),'red':  image.select(B4)}).rename(bname)\n",
    "  return VI#.updateMask(VI.gt(-1).and(VI.lt(1)));\n",
    "\n",
    "#EVI 计算\n",
    "def funEVI(image,B1,B2,B3):\n",
    "  VI = image.expression('2.5 * (nir - red) / (nir + 6 * red - 7.5 * blue + 1)',{ 'blue': image.select(B1),'red': image.select(B2),'nir': image.select(B3)}).rename('EVI')\n",
    "  return VI.updateMask(VI.gt(-1).And(VI.lt(1)))\n",
    "\n",
    "\n",
    "#MSR\n",
    "def funMSR(image,B1,B2):\n",
    "  VI = image.expression('(nir / red - 1)/(sqrt(nir+red)+1)',{'red':  image.select(B1),   'nir':  image.select(B2)}).rename('MSR')\n",
    "  return VI#.updateMask(VI.gt(-1).and(VI.lt(1)));\n",
    "\n",
    "\n",
    "#OSAVI\n",
    "def funOSAVI(image,B1,B2):\n",
    "  VI = image.expression('(nir - red)/(nir + red + 0.16)',{'nir':  image.select(B1),   'red':  image.select(B2)}).rename('OSAVI')\n",
    "  return VI#.updateMask(VI.gt(-1).and(VI.lt(1)));\n",
    "\n",
    "\n",
    "#PSRI\n",
    "def funPSRI(image,B1,B2,B3,bname):\n",
    "  VI = image.expression('(red - green)/re',{'red':  image.select(B1),   'green':  image.select(B2),'re':   image.select(B3)}).rename(bname)\n",
    "  return VI#.updateMask(VI.gt(-1).and(VI.lt(1)));\n",
    "\n",
    "\n",
    "#RGB\n",
    "def funRGB(image,B1,B2):\n",
    "  VI = image.expression('red / green',{'red':  image.select(B1),   'green':  image.select(B2)}).rename('RGB')\n",
    "  return VI#.updateMask(VI.gt(-1).and(VI.lt(1)));\n",
    "\n",
    "\n",
    "#RDVI\n",
    "def funRDVI(image,B1,B2):\n",
    "  VI = image.expression('(nir - red )/(sqrt(nir+red))',{'nir':  image.select(B1),   'red':  image.select(B2)}).rename('RDVI')\n",
    "  return VI#.updateMask(VI.gt(-1).and(VI.lt(1)));\n",
    "\n",
    "\n",
    "#REDSI\n",
    "def funREDSI(image,B1,B2,B3):\n",
    "  VI = image.expression('((705 - 665)*(re3 - red) - (783-665) * (re1 - red))/ (2 * red)',{'re3':  image.select(B1),   'red':  image.select(B2),'re1':   image.select(B3)}).rename('REDSI')\n",
    "  return VI#.updateMask(VI.gt(-1).and(VI.lt(1)));\n",
    "\n",
    "\n",
    "#SR\n",
    "def funSR(image,B1,B2):\n",
    "  VI = image.expression('nir / red',{ 'nir':  image.select(B1),   'red':  image.select(B2)}).rename('SR')\n",
    "  return VI#.updateMask(VI.gt(-1).and(VI.lt(1)));\n",
    "\n",
    "\n",
    "#TVI\n",
    "def funTVI(image,B1,B2,B3):\n",
    "  VI = image.expression('0.5 * (120 * (nir - green) - 200 * (red - green))',{'nir':  image.select(B1),   'green':  image.select(B2),'red':   image.select(B3)}).rename('TVI')\n",
    "  return VI#.updateMask(VI.gt(-1).and(VI.lt(1)));"
   ]
  },
  {
   "cell_type": "markdown",
   "id": "7d4a8cf1",
   "metadata": {},
   "source": [
    "## 1.3 插值"
   ]
  },
  {
   "cell_type": "code",
   "execution_count": 5,
   "id": "dfafb1a2",
   "metadata": {},
   "outputs": [],
   "source": [
    "#IDW\n",
    "def funIDW(shp,property,range):\n",
    "    #get mean\n",
    "    mean_value = shp.reduceColumns(ee.Reducer.mean(),[property])\n",
    "    #print(mean_value)\n",
    "    #get stdev\n",
    "    sd_value = shp.reduceColumns(ee.Reducer.stdDev(),[property])\n",
    "    #print(sd_value)\n",
    "    img = shp.inverseDistance(range = range, propertyName = property,mean = mean_value.getInfo()['mean'],stdDev=sd_value.getInfo()['stdDev'], reducer = ee.Reducer.mean())\n",
    "    return img"
   ]
  },
  {
   "cell_type": "markdown",
   "id": "a898fcd9",
   "metadata": {},
   "source": [
    "# 2 Sentinel数据处理"
   ]
  },
  {
   "cell_type": "markdown",
   "id": "b24be0ae",
   "metadata": {},
   "source": [
    "## 2.1 Sentinel2去云"
   ]
  },
  {
   "cell_type": "code",
   "execution_count": 6,
   "id": "33da4735",
   "metadata": {},
   "outputs": [],
   "source": [
    "def S2Cloud(image):\n",
    "  qa = image.select('QA60')\n",
    "  cloudBitMask = 1 << 10\n",
    "  cirrusBitMask = 1 << 11\n",
    "  mask = qa.bitwiseAnd(cloudBitMask).eq(0).And(qa.bitwiseAnd(cirrusBitMask).eq(0))\n",
    "  return image.updateMask(mask).divide(10000)"
   ]
  },
  {
   "cell_type": "markdown",
   "id": "24237a3f",
   "metadata": {},
   "source": [
    "## 2.2 获取Sentinel2影像数据"
   ]
  },
  {
   "cell_type": "code",
   "execution_count": 7,
   "id": "d0e054c0",
   "metadata": {},
   "outputs": [],
   "source": [
    "def S2Img(startdate, enddate,geometry,cloud):\n",
    "  S2= ee.ImageCollection('COPERNICUS/S2').filterDate(startdate, enddate).filterBounds(geometry).filter(ee.Filter.lt('CLOUDY_PIXEL_PERCENTAGE', cloud)).map(S2Cloud)\n",
    "  return S2"
   ]
  },
  {
   "cell_type": "markdown",
   "id": "cacec95b",
   "metadata": {},
   "source": [
    "## 2.3 计算指数并且添加为对应波段"
   ]
  },
  {
   "cell_type": "code",
   "execution_count": 9,
   "id": "89268e64",
   "metadata": {},
   "outputs": [],
   "source": [
    "def S2Vis(img):\n",
    "    NDVI = ND(img,'B8','B4','NDVI')\n",
    "    NDVIre1 = ND(img,'B5','B4','NDVIre1')\n",
    "    NDVIre2 = ND(img,'B6','B4','NDVIre2')\n",
    "    NDVIre3 = ND(img,'B7','B4','NDVIre3')\n",
    "    GNDVI = ND(img,'B8','B3','GNDVI')\n",
    "    LSWI = ND(img,'B8','B11','LSWI')\n",
    "    NDWI = ND(img,'B3','B8','NDWI')\n",
    "    mNDWI = ND(img,'B3','B11','mNDWI')\n",
    "    SIPI = ND(img,'B8','B2','SIPI')\n",
    "    SIWSI1 = ND(img,'B8','B11','SIWSI1')\n",
    "    SIWSI2 = ND(img,'B8','B12','SIWSI2')\n",
    "    EVI = funEVI(img,'B2','B4','B8')\n",
    "    RGB = funRGB(img,'B4','B3')\n",
    "    MSR = funMSR(img,'B4','B8')\n",
    "    SR = funSR(img,'B8','B4')\n",
    "    RDVI = funRDVI(img,'B8','B4')\n",
    "    DVI = funDVI(img,'B8','B4')\n",
    "    OSAVI = funOSAVI(img,'B8','B4')\n",
    "    PSRI1 = funPSRI(img,'B4','B5','B5','PSRI1')\n",
    "    PSRI2 = funPSRI(img,'B4','B5','B6','PSRI2')\n",
    "    PSRI3 = funPSRI(img,'B4','B5','B7','PSRI3')\n",
    "    REDSI = funREDSI(img,'B7','B4','B5')\n",
    "    TVI = funTVI(img,'B8','B3','B4')\n",
    "    DSWI1 = funDSWI(img,'B8','B3','B11','B4','DSWI1')\n",
    "    DSWI2 = funDSWI(img,'B8','B3','B12','B4','DSWI2')\n",
    "    output = img.addBands(NDVI).addBands(NDVIre1).addBands(NDVIre2).addBands(NDVIre3).addBands(SIWSI1).addBands(SIWSI2).addBands(GNDVI).addBands(LSWI).addBands(NDWI).addBands(mNDWI).addBands(SIPI).addBands(EVI).addBands(RGB).addBands(MSR).addBands(SR).addBands(RDVI).addBands(DVI).addBands(OSAVI).addBands(PSRI1).addBands(PSRI2).addBands(PSRI3).addBands(REDSI).addBands(TVI).addBands(DSWI1).addBands(DSWI2)\n",
    "    return output"
   ]
  }
 ],
 "metadata": {
  "kernelspec": {
   "display_name": "Python 3",
   "language": "python",
   "name": "python3"
  },
  "language_info": {
   "codemirror_mode": {
    "name": "ipython",
    "version": 3
   },
   "file_extension": ".py",
   "mimetype": "text/x-python",
   "name": "python",
   "nbconvert_exporter": "python",
   "pygments_lexer": "ipython3",
   "version": "3.8.8"
  }
 },
 "nbformat": 4,
 "nbformat_minor": 5
}
