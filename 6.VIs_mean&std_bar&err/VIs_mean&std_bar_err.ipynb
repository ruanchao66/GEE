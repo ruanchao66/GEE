{
 "cells": [
  {
   "cell_type": "markdown",
   "id": "093c7dca",
   "metadata": {},
   "source": [
    "# 1.绘制不同类别植被指数均值标准差直方图"
   ]
  },
  {
   "cell_type": "code",
   "execution_count": 1,
   "id": "79d1f7ca",
   "metadata": {
    "ExecuteTime": {
     "end_time": "2021-12-08T04:57:55.507010Z",
     "start_time": "2021-12-08T04:57:55.493015Z"
    }
   },
   "outputs": [],
   "source": [
    "#数据类型：不同类别样本植被指数\n",
    "#实验目的：1.计算不同类别各指数的均值和标准差\n",
    "#          1.1读取表格中的数据\n",
    "#          1.2预处理数据：提取不同类别指数，归一化指数，计算均值标准差\n",
    "#          1.3画图"
   ]
  },
  {
   "cell_type": "code",
   "execution_count": 2,
   "id": "b8755e39",
   "metadata": {
    "ExecuteTime": {
     "end_time": "2021-12-08T04:57:56.212829Z",
     "start_time": "2021-12-08T04:57:55.509009Z"
    }
   },
   "outputs": [],
   "source": [
    "import pandas as pd\n",
    "import numpy as np\n",
    "import csv\n",
    "from matplotlib import pyplot as plt"
   ]
  },
  {
   "cell_type": "markdown",
   "id": "37812f1e",
   "metadata": {},
   "source": [
    "## 1.1从excel种读取数据"
   ]
  },
  {
   "cell_type": "code",
   "execution_count": 3,
   "id": "fbb3e3b9",
   "metadata": {
    "ExecuteTime": {
     "end_time": "2021-12-08T04:57:56.243250Z",
     "start_time": "2021-12-08T04:57:56.214791Z"
    }
   },
   "outputs": [],
   "source": [
    "#读取数据\n",
    "JOVIs = pd.read_csv(r'G:\\数据恢复\\2021工作\\0325_野外实验设计\\4_第二届数字地球大会\\3_实验处理\\9_出图V2\\2_植被指数\\Fieldfeature0416.csv')\n",
    "# JOVIs = pd.read_csv(r'G:\\数据恢复\\2021工作\\0325_野外实验设计\\4_第二届数字地球大会\\3_实验处理\\9_出图V2\\2_植被指数\\feature0325.csv')"
   ]
  },
  {
   "cell_type": "markdown",
   "id": "d8741ada",
   "metadata": {},
   "source": [
    "## 1.2数据预处理（不同类别归一化均值标准差）"
   ]
  },
  {
   "cell_type": "code",
   "execution_count": 4,
   "id": "b5d0fc8f",
   "metadata": {
    "ExecuteTime": {
     "end_time": "2021-12-08T04:57:56.273475Z",
     "start_time": "2021-12-08T04:57:56.244255Z"
    }
   },
   "outputs": [],
   "source": [
    "#按levelnew列（0，1值）提取不同类别数据\n",
    "#0\n",
    "JOVIs_healthy = JOVIs[JOVIs['levelnew']==0].iloc[:,4:10]\n",
    "#按列明重新排列数据\n",
    "JOVIs_healthy = JOVIs_healthy[['PSRI2','REDSI','DSWI1','NDVI','NDVIre2','TVI']]\n",
    "#每列数据归一化\n",
    "JOVIs_healthy_NOR = JOVIs_healthy.apply(lambda x: (x - np.min(x)) / (np.max(x) - np.min(x)))\n",
    "#求每列均值和标准差\n",
    "JOVIs_healthy_mean = JOVIs_healthy_NOR.mean()\n",
    "JOVIs_healthy_std = JOVIs_healthy_NOR.std()\n",
    "# print(JOVIs_healthy_mean)\n",
    "# print(JOVIs_healthy_std)\n",
    "\n",
    "#1\n",
    "JOVIs_disease = JOVIs[JOVIs['levelnew']==1].iloc[:,4:10]\n",
    "#按列明重新排列数据\n",
    "JOVIs_disease = JOVIs_disease[['PSRI2','REDSI','DSWI1','NDVI','NDVIre2','TVI']]\n",
    "#每列数据归一化\n",
    "JOVIs_disease_NOR = JOVIs_disease.apply(lambda x: (x - np.min(x)) / (np.max(x) - np.min(x)))\n",
    "#求每列均值和标准差\n",
    "JOVIs_disease_mean = JOVIs_disease_NOR.mean()\n",
    "JOVIs_disease_std = JOVIs_disease_NOR.std()\n",
    "# print(JOVIs_disease_mean)\n",
    "# print(JOVIs_disease_std)"
   ]
  },
  {
   "cell_type": "markdown",
   "id": "6ae2adbe",
   "metadata": {},
   "source": [
    "## 1.3画图"
   ]
  },
  {
   "cell_type": "code",
   "execution_count": 5,
   "id": "ab499daa",
   "metadata": {
    "ExecuteTime": {
     "end_time": "2021-12-08T04:57:57.023860Z",
     "start_time": "2021-12-08T04:57:56.274445Z"
    }
   },
   "outputs": [
    {
     "data": {
      "image/png": "[encoded data removed]",
      "text/plain": [
       "<Figure size 432x288 with 1 Axes>"
      ]
     },
     "metadata": {
      "needs_background": "light"
     },
     "output_type": "display_data"
    }
   ],
   "source": [
    "#统一设置图片字体\n",
    "plt.rc('font',family='Palatino Linotype') #Times New Roman\n",
    "#定义柱状图位置\n",
    "#location 1\n",
    "n1 = 1  # This is our first dataset (out of 2)\n",
    "t = 2 # Number of datasets\n",
    "d = 6 # Number of sets of bars\n",
    "w = 0.8 # Width of each bar\n",
    "store1_x = [t*element + (1-w/2)*n1 for element in range(d)]\n",
    "\n",
    "#Location 2\n",
    "n2 = 2  # This is our second dataset (out of 2)\n",
    "t = 2 # Number of datasets\n",
    "d = 6 # Number of sets of bars\n",
    "w = 0.8 # Width of each bar\n",
    "store2_x = [t*element + (1+w/2)*n1 for element in range(d)]\n",
    "ax=plt.subplot()\n",
    "#画柱状图\n",
    "plt.bar(store1_x,JOVIs_healthy_mean,yerr=JOVIs_healthy_std/2,capsize=5)\n",
    "plt.bar(store2_x,JOVIs_disease_mean,yerr=JOVIs_disease_std/2,capsize=5)\n",
    "#设置图例内容，位置，透明显示\n",
    "plt.legend(['Healthy','Disease'],loc=\"upper left\").get_frame().set_linewidth(0.0)\n",
    "#XY轴的刻度及标签\n",
    "ax.set_xticks([1,3,5,7,9,11])\n",
    "VIs_name = [\"PSRI\", \"REDSI\", \"DSWI\", \"NDVI\", \"NDVIre\", \"TVI\"]\n",
    "ax.set_xticklabels(VIs_name)\n",
    "ax.set_yticks([0,0.2,0.4,0.6,0.8,1])\n",
    "#去除x轴刻度，Y轴刻度向内\n",
    "ax.tick_params(axis='x', which='both', length=0,direction='in')#\n",
    "ax.tick_params(axis='y', which='both', direction='in',width=1)#\n",
    "#设置XY轴名称，字体大小，加粗\n",
    "plt.xlabel('Vegetation indices',size= 12,weight = 'bold')\n",
    "plt.ylabel('Values of normalized vegetation indices',size= 12,weight = 'bold')\n",
    "#去除边框线\n",
    "# ax.spines['top'].set_visible(False)\n",
    "# ax.spines['right'].set_visible(False)\n",
    "#设置边框宽度\n",
    "ax.spines['bottom'].set_linewidth('1.0')#设置边框线宽为2.0\n",
    "ax.spines['top'].set_linewidth('1.0')#设置边框线宽为2.0\n",
    "ax.spines['right'].set_linewidth('1.0')#设置边框线宽为2.0\n",
    "ax.spines['left'].set_linewidth('1.0')#设置边框线宽为2.0\n",
    "#去除图片周围空白\n",
    "plt.subplots_adjust(top=0.98, bottom=0.12, right=0.99, left=0.09, hspace=0, wspace=0)\n",
    "# plt.margins(0, 0)\n",
    "plt.savefig('./VIs_barss.png', dpi=600)\n",
    "plt.show()"
   ]
  },
  {
   "cell_type": "code",
   "execution_count": null,
   "id": "497477b0",
   "metadata": {},
   "outputs": [],
   "source": []
  }
 ],
 "metadata": {
  "kernelspec": {
   "display_name": "Python 3",
   "language": "python",
   "name": "python3"
  },
  "language_info": {
   "codemirror_mode": {
    "name": "ipython",
    "version": 3
   },
   "file_extension": ".py",
   "mimetype": "text/x-python",
   "name": "python",
   "nbconvert_exporter": "python",
   "pygments_lexer": "ipython3",
   "version": "3.8.8"
  },
  "toc": {
   "base_numbering": 1,
   "nav_menu": {},
   "number_sections": true,
   "sideBar": true,
   "skip_h1_title": false,
   "title_cell": "Table of Contents",
   "title_sidebar": "Contents",
   "toc_cell": false,
   "toc_position": {},
   "toc_section_display": true,
   "toc_window_display": true
  },
  "varInspector": {
   "cols": {
    "lenName": 16,
    "lenType": 16,
    "lenVar": 40
   },
   "kernels_config": {
    "python": {
     "delete_cmd_postfix": "",
     "delete_cmd_prefix": "del ",
     "library": "var_list.py",
     "varRefreshCmd": "print(var_dic_list())"
    },
    "r": {
     "delete_cmd_postfix": ") ",
     "delete_cmd_prefix": "rm(",
     "library": "var_list.r",
     "varRefreshCmd": "cat(var_dic_list()) "
    }
   },
   "types_to_exclude": [
    "module",
    "function",
    "builtin_function_or_method",
    "instance",
    "_Feature"
   ],
   "window_display": false
  }
 },
 "nbformat": 4,
 "nbformat_minor": 5
}
