{
 "cells": [
  {
   "cell_type": "markdown",
   "id": "d1d4e764",
   "metadata": {},
   "source": [
    "# 1.矢量和栅格数据的上传和下载"
   ]
  },
  {
   "cell_type": "markdown",
   "id": "c40a31ef",
   "metadata": {},
   "source": [
    "## 1.1 从本地导入栅格和矢量数据到GEE_Python"
   ]
  },
  {
   "cell_type": "code",
   "execution_count": null,
   "id": "daf89a14",
   "metadata": {},
   "outputs": [],
   "source": [
    "#导入gee相关库\n",
    "import ee\n",
    "import geemap\n",
    "import os"
   ]
  },
  {
   "cell_type": "code",
   "execution_count": null,
   "id": "1800b53e",
   "metadata": {},
   "outputs": [],
   "source": [
    "#设置端口，7890为电脑端口\n",
    "geemap.set_proxy(port=7890)\n",
    "#初始化\n",
    "ee.Initialize()"
   ]
  },
  {
   "cell_type": "code",
   "execution_count": null,
   "id": "796522f7",
   "metadata": {
    "scrolled": true
   },
   "outputs": [],
   "source": [
    "#生成底图\n",
    "Map = geemap.Map()\n",
    "Map"
   ]
  },
  {
   "cell_type": "markdown",
   "id": "bea88c6b",
   "metadata": {},
   "source": [
    "### 1.1.1 本地导入栅格(windows暂不支持导入raster)"
   ]
  },
  {
   "cell_type": "markdown",
   "id": "96f2e15c",
   "metadata": {},
   "source": [
    "### 1.1.2 本地导入矢量(windows暂不支持导入raster)"
   ]
  },
  {
   "cell_type": "code",
   "execution_count": null,
   "id": "1d90430b",
   "metadata": {},
   "outputs": [],
   "source": [
    "#设置本地矢量路径\n",
    "shp_path=('K:/编程学习视频/GEE培训/GEE_python_RC/data/20210416.shp')\n",
    "shp_local = geemap.shp_to_ee(shp_path)"
   ]
  },
  {
   "cell_type": "code",
   "execution_count": null,
   "id": "c7657c96",
   "metadata": {
    "scrolled": true
   },
   "outputs": [],
   "source": [
    "Map.centerObject(shp_local)\n",
    "Map.addLayer(shp_local)\n",
    "Map"
   ]
  },
  {
   "cell_type": "markdown",
   "id": "072ee20c",
   "metadata": {},
   "source": [
    "## 1.2 从GEE导入栅格和矢量"
   ]
  },
  {
   "cell_type": "markdown",
   "id": "33adf05b",
   "metadata": {},
   "source": [
    "### 1.2.1 导入矢量"
   ]
  },
  {
   "cell_type": "code",
   "execution_count": null,
   "id": "cb3241a6",
   "metadata": {},
   "outputs": [],
   "source": [
    "shp_GEE = ee.FeatureCollection(\"users/rc474048903/qishan2021_wheat_rust/qishan20210416_wheatrust_point\")"
   ]
  },
  {
   "cell_type": "markdown",
   "id": "19c1f50f",
   "metadata": {},
   "source": [
    "### 1.2.2 导入栅格"
   ]
  },
  {
   "cell_type": "code",
   "execution_count": null,
   "id": "ec72fe44",
   "metadata": {},
   "outputs": [],
   "source": [
    "raster_GEE = ee.Image(\"users/rc474048903/qishan2021_wheat_rust/qishan_wheatarea_decisiontree\")"
   ]
  },
  {
   "cell_type": "markdown",
   "id": "4d0b5e2c",
   "metadata": {},
   "source": [
    "## 1.3 从GEE_Python导出矢量和栅格到GEE DRIVE"
   ]
  },
  {
   "cell_type": "markdown",
   "id": "15c298a9",
   "metadata": {},
   "source": [
    "### 1.3.1 利用ee库函数导出矢量"
   ]
  },
  {
   "cell_type": "code",
   "execution_count": null,
   "id": "6470193f",
   "metadata": {},
   "outputs": [],
   "source": [
    "#创建上传任务\n",
    "task_shp= ee.batch.Export.table.toDrive(collection= shp_GEE, \n",
    "                                        description = \"shp_GEE\",\n",
    "                                        folder= \"GEE_python\",\n",
    "                                        fileNamePrefix= \"shp_GEE\",\n",
    "                                        fileFormat=  \"SHP\")"
   ]
  },
  {
   "cell_type": "code",
   "execution_count": null,
   "id": "498a57da",
   "metadata": {},
   "outputs": [],
   "source": [
    "#开始上传\n",
    "task_shp.start()"
   ]
  },
  {
   "cell_type": "code",
   "execution_count": null,
   "id": "0dc48d76",
   "metadata": {},
   "outputs": [],
   "source": [
    "#查看上传状态\n",
    "task_shp.status()"
   ]
  },
  {
   "cell_type": "markdown",
   "id": "c9a83ce5",
   "metadata": {},
   "source": [
    "### 1.3.2 利用ee库函数导出栅格"
   ]
  },
  {
   "cell_type": "code",
   "execution_count": null,
   "id": "d48f920f",
   "metadata": {},
   "outputs": [],
   "source": [
    "China_country = ee.FeatureCollection(\"users/rc474048903/region_boundry/china2019_xianji\")\n",
    "roi = China_country.filterMetadata('NAME', 'equals', '岐山县')\n",
    "#创建上传任务\n",
    "task_raster=ee.batch.Export.image.toDrive(image= raster_GEE, \n",
    "                                          description= \"raster_GEE\",\n",
    "                                          folder= \"GEE_python\",\n",
    "                                          region= roi.geometry(),\n",
    "                                          scale= 10,crs= \"EPSG:4326\",\n",
    "                                          maxPixels= 1e13)"
   ]
  },
  {
   "cell_type": "code",
   "execution_count": null,
   "id": "0d346f97",
   "metadata": {},
   "outputs": [],
   "source": [
    "#开始上传\n",
    "task_raster.start()"
   ]
  },
  {
   "cell_type": "code",
   "execution_count": null,
   "id": "722e695b",
   "metadata": {},
   "outputs": [],
   "source": [
    "#查看上传状态\n",
    "task_raster.status()"
   ]
  },
  {
   "cell_type": "markdown",
   "id": "fc19ebdf",
   "metadata": {},
   "source": [
    "### 1.3.3 利用geemap函数导出矢量"
   ]
  },
  {
   "cell_type": "code",
   "execution_count": null,
   "id": "05d8d835",
   "metadata": {},
   "outputs": [],
   "source": [
    "geemap.ee_export_vector_to_drive(ee_object =shp_GEE, description= \"shp_GEE\", folder=\"GEE_python\", file_format='shp')"
   ]
  },
  {
   "cell_type": "markdown",
   "id": "6c209005",
   "metadata": {},
   "source": [
    "### 1.3.4 利用geemap函数导出矢量"
   ]
  },
  {
   "cell_type": "code",
   "execution_count": null,
   "id": "158e9f05",
   "metadata": {},
   "outputs": [],
   "source": [
    "geemap.ee_export_image_to_drive(ee_object=raster_GEE, description=\"raster_GEE\", folder=\"GEE_python\",\n",
    "                                region=roi.geometry(), scale=10, crs=\"EPSG:4326\", \n",
    "                                max_pixels=1e13, file_format='GeoTIFF')"
   ]
  },
  {
   "cell_type": "markdown",
   "id": "d3202d2c",
   "metadata": {},
   "source": [
    "## 1.4 从GEE_Python导出矢量和栅格到本地"
   ]
  },
  {
   "cell_type": "markdown",
   "id": "fe4524a9",
   "metadata": {},
   "source": [
    "### 1.4.1 利用ee库函数导出栅格"
   ]
  },
  {
   "cell_type": "code",
   "execution_count": null,
   "id": "cf062b6f",
   "metadata": {},
   "outputs": [],
   "source": [
    "geemap.ee_export_image(ee_object=raster_GEE, filename='K:/编程学习视频/GEE培训/GEE_python_RC/raster_GEE.tif', \n",
    "                       scale=10, crs=\"EPSG:4326\", region=roi.geometry(), file_per_band=False)"
   ]
  },
  {
   "cell_type": "markdown",
   "id": "8884b5d0",
   "metadata": {},
   "source": [
    "### 1.4.2 利用ee库函数导出矢量"
   ]
  },
  {
   "cell_type": "code",
   "execution_count": null,
   "id": "3da0ab24",
   "metadata": {},
   "outputs": [],
   "source": [
    "#方法1\n",
    "geemap.ee_export_vector(ee_object=shp_GEE, filename='K:/编程学习视频/GEE培训/GEE_python_RC/shp_GEE.shp')"
   ]
  },
  {
   "cell_type": "code",
   "execution_count": null,
   "id": "6b1ef6a6",
   "metadata": {},
   "outputs": [],
   "source": [
    "#方法2\n",
    "geemap.ee_to_shp(ee_object=shp_GEE, filename='K:/编程学习视频/GEE培训/GEE_python_RC/shp_GEE.shp')"
   ]
  }
 ],
 "metadata": {
  "kernelspec": {
   "display_name": "Python 3",
   "language": "python",
   "name": "python3"
  },
  "language_info": {
   "codemirror_mode": {
    "name": "ipython",
    "version": 3
   },
   "file_extension": ".py",
   "mimetype": "text/x-python",
   "name": "python",
   "nbconvert_exporter": "python",
   "pygments_lexer": "ipython3",
   "version": "3.8.8"
  }
 },
 "nbformat": 4,
 "nbformat_minor": 5
}
