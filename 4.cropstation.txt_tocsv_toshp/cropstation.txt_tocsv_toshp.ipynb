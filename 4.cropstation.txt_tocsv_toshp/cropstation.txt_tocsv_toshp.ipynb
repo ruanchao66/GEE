{
 "cells": [
  {
   "cell_type": "markdown",
   "id": "af39e4a5",
   "metadata": {},
   "source": [
    "# 1.农气站点TXT文件批量转shp"
   ]
  },
  {
   "cell_type": "code",
   "execution_count": 4,
   "id": "29434382",
   "metadata": {},
   "outputs": [],
   "source": [
    "#数据类型：农气数据.txt\n",
    "#实验目的：1.农气站点TXT文件批量转shp\n",
    "#          1.1将农气站点TXT数据批量转成csv格式\n",
    "#          1.2提取农气站点TXT数据中某个类别数据批量转成csv格式\n",
    "#          1.3将csv站点数据批量转成shp数据\n",
    "#          1.4shp数据批量投影"
   ]
  },
  {
   "cell_type": "code",
   "execution_count": null,
   "id": "555c6c92",
   "metadata": {},
   "outputs": [],
   "source": [
    "#-*-coding:utf-8-*-\n",
    "#导入os和pandas库\n",
    "import os\n",
    "import pandas as pd\n",
    "import shapefile as shp\n",
    "import csv\n",
    "import codecs\n",
    "import os\n",
    "from osgeo import osr"
   ]
  },
  {
   "cell_type": "code",
   "execution_count": null,
   "id": "35072e3f",
   "metadata": {},
   "outputs": [],
   "source": [
    "#设置输入输出路径\n",
    "input_dir=(r'G:\\数据恢复\\2021工作\\0325_野外实验设计\\4_第二届数字地球大会\\3_实验处理\\3.1_生育期预测\\0_data')#存放TXT文件路径\n",
    "output_csvdir=(r'G:\\数据恢复\\2021工作\\0325_野外实验设计\\4_第二届数字地球大会\\3_实验处理\\3.1_生育期预测\\1_csv')#存放csv文件路径\n",
    "output_shpdir=(r'G:\\数据恢复\\2021工作\\0325_野外实验设计\\4_第二届数字地球大会\\3_实验处理\\3.1_生育期预测\\2_shp')#存放shp文件路径"
   ]
  },
  {
   "cell_type": "code",
   "execution_count": null,
   "id": "d1820cd4",
   "metadata": {},
   "outputs": [],
   "source": [
    "#修改当前工作路径\n",
    "os.chdir(input_dir)\n",
    "os.getcwd()"
   ]
  },
  {
   "cell_type": "markdown",
   "id": "2af61afa",
   "metadata": {},
   "source": [
    "## 1.1将txt格式直接转换成csv格式"
   ]
  },
  {
   "cell_type": "code",
   "execution_count": null,
   "id": "de07ca05",
   "metadata": {},
   "outputs": [],
   "source": [
    "#读取input_dir文件夹下所有TXT文件\n",
    "for root, dirs, files in os.walk(input_dir):\n",
    "    print(files)"
   ]
  },
  {
   "cell_type": "code",
   "execution_count": null,
   "id": "41aee79f",
   "metadata": {},
   "outputs": [],
   "source": [
    "#创建列表存放数据\n",
    "data = []#存放原始TXT文件数据\n",
    "filename = []#存放文件名\n",
    "wheatdata=[]#存放小麦类别数据"
   ]
  },
  {
   "cell_type": "code",
   "execution_count": null,
   "id": "55781377",
   "metadata": {},
   "outputs": [],
   "source": [
    "#读取数据\n",
    "for i in range (len(files)):\n",
    "    data.append(pd.read_table(files[i],sep='\\s+'))\n",
    "#     data.append(pd.read_table(files[i],sep='\\s+',header=None))\n",
    "    filename.append(files[i].split('.'))\n",
    "print('END!')"
   ]
  },
  {
   "cell_type": "code",
   "execution_count": null,
   "id": "62845670",
   "metadata": {},
   "outputs": [],
   "source": [
    "#写入数据到csv\n",
    "for i in range (len(data)):  \n",
    "    data[i].to_csv(output_csvdir+ os.sep +filename[i][0]+'.csv',encoding=\"utf_8_sig\")"
   ]
  },
  {
   "cell_type": "markdown",
   "id": "20e7c659",
   "metadata": {},
   "source": [
    "## 1.2提取小麦类别数据转为csv"
   ]
  },
  {
   "cell_type": "code",
   "execution_count": null,
   "id": "df04b5b1",
   "metadata": {
    "scrolled": false
   },
   "outputs": [],
   "source": [
    "for i in range (len(data)):  \n",
    "    wheatdata.append(data[i][(data[i]['Crop_Name']==10301) | (data[i]['Crop_Name']==10302) | (data[i]['Crop_Name']==10303)])"
   ]
  },
  {
   "cell_type": "code",
   "execution_count": null,
   "id": "3675b9c7",
   "metadata": {},
   "outputs": [],
   "source": [
    "#写入数据到csv\n",
    "for i in range (len(wheatdata)):  \n",
    "    wheatdata[i].to_csv(output_csvdir+ os.sep +filename[i][0]+'winterwheat.csv',encoding=\"utf_8_sig\")"
   ]
  },
  {
   "cell_type": "code",
   "execution_count": null,
   "id": "e495aee9",
   "metadata": {
    "scrolled": false
   },
   "outputs": [],
   "source": [
    "#提取指定行列数据转为csv\n",
    "# a =wheatdata[2].iloc[0:3506,:]\n",
    "# a.to_csv(output_csvdir+ os.sep +filename[i][0]+'winterwheat222.csv',encoding=\"utf_8_sig\")"
   ]
  },
  {
   "cell_type": "markdown",
   "id": "41ce2bf1",
   "metadata": {},
   "source": [
    "## 1.3根据经纬度转换csv格式为shp格式"
   ]
  },
  {
   "cell_type": "code",
   "execution_count": null,
   "id": "14837f85",
   "metadata": {},
   "outputs": [],
   "source": [
    "for root, dirs, files in os.walk(output_csvdir):\n",
    "    print(files)"
   ]
  },
  {
   "cell_type": "code",
   "execution_count": null,
   "id": "d3aa24d0",
   "metadata": {
    "scrolled": true
   },
   "outputs": [],
   "source": [
    "for i in range(len(files)):\n",
    "    fnn = files[i].split('.')[0]\n",
    "#     print(files[i])\n",
    "    if files[i].split('.')[0].find('wheat') != (-1):  #不包含‘wheat’,返回-1\n",
    "        print(files[i])\n",
    "        #创建shp文件\n",
    "        output_shp = shp.Writer(output_shpdir+ os.sep + \"%s.shp\" % fnn.split('.')[0], shp.POINT, encoding='utf-8')\n",
    "        # for every record there must be a corresponding geometry.\n",
    "        output_shp.autoBalance = 1\n",
    "        #字符：'c';数字：'N';浮点：'F';逻辑：'L';日期：'D'\n",
    "        output_shp.field('Province', 'C', 50) # string\n",
    "        output_shp.field('City', 'C', 50) # string\n",
    "        output_shp.field('Cnty', 'C', 50) # string\n",
    "        output_shp.field('Town_Station_Id_C', 'F', 10, 8) # int\n",
    "        output_shp.field('Lat', 'F', 10, 8) # float\n",
    "        output_shp.field('Lon', 'F', 10, 8) # float\n",
    "        output_shp.field('Alti', 'F', 10, 8) # float\n",
    "        output_shp.field('Admin_Code_CHN', 'F', 10, 8) # float\n",
    "        output_shp.field('Year', 'F', 10, 8) # int\n",
    "        output_shp.field('Mon', 'F', 10, 8) # int\n",
    "        output_shp.field('Day', 'F', 10, 8) # int\n",
    "        output_shp.field('Crop_Name',  'F', 10, 8) # int\n",
    "        output_shp.field('GroPer_Name_Ten',  'F', 10, 8) # int\n",
    "        # access the CSV file\n",
    "        with codecs.open(output_csvdir+ os.sep + fnn + '.csv', 'rb', 'utf-8') as csvfile:\n",
    "            reader = csv.reader(csvfile, delimiter=',')\n",
    "            # skip the header\n",
    "            next(reader, None)\n",
    "            #loop through each of the rows and assign the attributes to variables\n",
    "            for row in reader:\n",
    "                Province = row[2]\n",
    "                print(Province)\n",
    "                City = row[3]\n",
    "                Cnty = row[4]\n",
    "                Town_Station_Id_C = float(row[5])\n",
    "                Lat = float(row[6])\n",
    "                Lon = float(row[7])\n",
    "                Alti = float(row[8])\n",
    "                Admin_Code_CHN = float(row[9])\n",
    "                Year = float(row[10])\n",
    "                Mon = float(row[11])\n",
    "                Day = float(row[12])\n",
    "                Crop_Name = float(row[13])\n",
    "                GroPer_Name_Ten = float(row[14])\n",
    "                #print(type(Province),type(City),type(Cnty),type(Town_Station_Id_C),type(Lat))\n",
    "                # create the point geometry\n",
    "                output_shp.point(Lon, Lat)\n",
    "                output_shp.record(Province, City, Cnty,Town_Station_Id_C,Lat,Lon,Alti,Admin_Code_CHN,Year,Mon,Day,Crop_Name,GroPer_Name_Ten)"
   ]
  },
  {
   "cell_type": "markdown",
   "id": "b328c7bc",
   "metadata": {},
   "source": [
    "## 1.4定义投影"
   ]
  },
  {
   "cell_type": "code",
   "execution_count": null,
   "id": "a3cfcef2",
   "metadata": {},
   "outputs": [],
   "source": [
    "# 定义投影\n",
    "proj = osr.SpatialReference() \n",
    "proj.ImportFromEPSG(4326) # 4326-GCS_WGS_1984; 4490- GCS_China_Geodetic_Coordinate_System_2000\n",
    "wkt = proj.ExportToWkt()\n",
    "for root, dirs, files in os.walk(output_shpdir):\n",
    "    print(root)\n",
    "for i in range (len(files)):\n",
    "    if files[i].split('.')[1] == 'shp':\n",
    "        # 写入投影\n",
    "        print(files[i])\n",
    "        f = open((root+os.sep+files[i]).replace(\".shp\", \".prj\"), 'w') \n",
    "        f.write(wkt)#写入投影信息\n",
    "        f.close()#关闭操作流"
   ]
  }
 ],
 "metadata": {
  "kernelspec": {
   "display_name": "Python 3",
   "language": "python",
   "name": "python3"
  },
  "language_info": {
   "codemirror_mode": {
    "name": "ipython",
    "version": 3
   },
   "file_extension": ".py",
   "mimetype": "text/x-python",
   "name": "python",
   "nbconvert_exporter": "python",
   "pygments_lexer": "ipython3",
   "version": "3.8.8"
  }
 },
 "nbformat": 4,
 "nbformat_minor": 5
}
